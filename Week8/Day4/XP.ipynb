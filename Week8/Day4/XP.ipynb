{
 "cells": [
  {
   "cell_type": "code",
   "execution_count": 1,
   "metadata": {},
   "outputs": [
    {
     "name": "stdout",
     "output_type": "stream",
     "text": [
      "Requirement already satisfied: statsmodels in c:\\users\\user\\appdata\\local\\programs\\python\\python311\\lib\\site-packages (0.14.4)\n",
      "Requirement already satisfied: numpy<3,>=1.22.3 in c:\\users\\user\\appdata\\local\\programs\\python\\python311\\lib\\site-packages (from statsmodels) (2.1.3)\n",
      "Requirement already satisfied: scipy!=1.9.2,>=1.8 in c:\\users\\user\\appdata\\local\\programs\\python\\python311\\lib\\site-packages (from statsmodels) (1.14.1)\n",
      "Requirement already satisfied: pandas!=2.1.0,>=1.4 in c:\\users\\user\\appdata\\local\\programs\\python\\python311\\lib\\site-packages (from statsmodels) (2.2.3)\n",
      "Requirement already satisfied: patsy>=0.5.6 in c:\\users\\user\\appdata\\local\\programs\\python\\python311\\lib\\site-packages (from statsmodels) (1.0.1)\n",
      "Requirement already satisfied: packaging>=21.3 in c:\\users\\user\\appdata\\roaming\\python\\python311\\site-packages (from statsmodels) (24.2)\n",
      "Requirement already satisfied: python-dateutil>=2.8.2 in c:\\users\\user\\appdata\\roaming\\python\\python311\\site-packages (from pandas!=2.1.0,>=1.4->statsmodels) (2.9.0.post0)\n",
      "Requirement already satisfied: pytz>=2020.1 in c:\\users\\user\\appdata\\local\\programs\\python\\python311\\lib\\site-packages (from pandas!=2.1.0,>=1.4->statsmodels) (2024.2)\n",
      "Requirement already satisfied: tzdata>=2022.7 in c:\\users\\user\\appdata\\local\\programs\\python\\python311\\lib\\site-packages (from pandas!=2.1.0,>=1.4->statsmodels) (2024.2)\n",
      "Requirement already satisfied: six>=1.5 in c:\\users\\user\\appdata\\roaming\\python\\python311\\site-packages (from python-dateutil>=2.8.2->pandas!=2.1.0,>=1.4->statsmodels) (1.16.0)\n",
      "Note: you may need to restart the kernel to use updated packages.\n"
     ]
    },
    {
     "name": "stderr",
     "output_type": "stream",
     "text": [
      "\n",
      "[notice] A new release of pip available: 22.3 -> 24.3.1\n",
      "[notice] To update, run: python.exe -m pip install --upgrade pip\n"
     ]
    }
   ],
   "source": [
    "pip install statsmodels"
   ]
  },
  {
   "cell_type": "code",
   "execution_count": null,
   "metadata": {},
   "outputs": [
    {
     "name": "stdout",
     "output_type": "stream",
     "text": [
      "Effect Size is:  0.03\n",
      "Required Sample Size is:  17442.872915844462\n"
     ]
    }
   ],
   "source": [
    "#EX1\n",
    "# Calculating Required Sample Size\n",
    "\n",
    "import numpy as np\n",
    "from statsmodels.stats.power import TTestIndPower\n",
    "import pandas as pd\n",
    "\n",
    "prob_a = 0.20\n",
    "prob_b = 0.23\n",
    "effect_size = (prob_b - prob_a)\n",
    "print(\"Effect Size is: \", effect_size)\n",
    "\n",
    "power = 0.80\n",
    "\n",
    "alpha = 0.05 # significance level\n",
    "\n",
    "# In order to calculate the required sample size, we have to use the ttest since we do not know the sample size\n",
    "\n",
    "stat_model = TTestIndPower()\n",
    "\n",
    "sample = stat_model.solve_power(effect_size=effect_size, power=power, alpha=alpha, alternative='two-sided')\n",
    "\n",
    "print(\"Required Sample Size is: \", (sample))\n",
    "\n",
    "\n"
   ]
  },
  {
   "cell_type": "code",
   "execution_count": null,
   "metadata": {},
   "outputs": [
    {
     "name": "stdout",
     "output_type": "stream",
     "text": [
      "Effect Size:  0.2 Sample Size:  393.4056989990351\n",
      "Effect Size:  0.4 Sample Size:  99.08032683981116\n",
      "Effect Size:  0.5 Sample Size:  63.76561177540986\n"
     ]
    }
   ],
   "source": [
    "#EX2\n",
    "\n",
    "# Understanding the Relationship Between Effect Size and Sample Size\n",
    "\n",
    "effect_size = np.array([0.2, 0.4, 0.5])\n",
    "\n",
    "for _ in effect_size:\n",
    "    sample = stat_model.solve_power(effect_size=_, power=power, alpha=alpha, alternative='two-sided')\n",
    "    print(\"Effect Size: \", _, \"Sample Size: \", sample)\n",
    "\n",
    "\n",
    "# as lons as the effect size increases, the sample size decreases since a large effect it is easier to detect changes\n",
    "\n",
    "\n"
   ]
  },
  {
   "cell_type": "code",
   "execution_count": 24,
   "metadata": {},
   "outputs": [
    {
     "name": "stdout",
     "output_type": "stream",
     "text": [
      "Power:  0.7 Sample Size:  309.56333467437724\n",
      "Power:  0.8 Sample Size:  393.4056989990351\n",
      "Power:  0.9 Sample Size:  526.3332032147733\n"
     ]
    }
   ],
   "source": [
    "#EX3\n",
    "\n",
    "effect_size = 0.2\n",
    "power = np.array([0.7, 0.8, 0.9])\n",
    "                 \n",
    "for _ in power:\n",
    "    sample = stat_model.solve_power(effect_size=effect_size, power=_, alpha=alpha, alternative='two-sided')\n",
    "    print(\"Power: \", _, \"Sample Size: \", sample)\n",
    "\n",
    "# as long as the power increases, the sample size increases since the power is the probability of detecting an effect when it is present\n"
   ]
  },
  {
   "cell_type": "code",
   "execution_count": 26,
   "metadata": {},
   "outputs": [
    {
     "name": "stdout",
     "output_type": "stream",
     "text": [
      "Conversion Rate for A: 9.00%\n",
      "Conversion Rate for B: 11.00%\n",
      "Z-statistic: 1.0541\n",
      "P-value: 0.1459\n",
      "Fail to reject the null hypothesis. There is not enough evidence to conclude that Version B performs better than Version A.\n"
     ]
    }
   ],
   "source": [
    "#EX4\n",
    "\n",
    "from statsmodels.stats.proportion import proportions_ztest\n",
    "\n",
    "# Data from the table\n",
    "emails_sent_A = 500\n",
    "purchases_A = 45\n",
    "revenue_A = 5000\n",
    "\n",
    "emails_sent_B = 500\n",
    "purchases_B = 55\n",
    "revenue_B = 6500\n",
    "\n",
    "# Conversion rates\n",
    "conversion_rate_A = purchases_A / emails_sent_A\n",
    "conversion_rate_B = purchases_B / emails_sent_B\n",
    "\n",
    "# 1. Type of test: This is a test of proportions since we are comparing conversion rates.\n",
    "\n",
    "# 2. Null and alternative hypotheses:\n",
    "# Null hypothesis (H0): Conversion rate of Version B <= Conversion rate of Version A\n",
    "# Alternative hypothesis (H1): Conversion rate of Version B > Conversion rate of Version A\n",
    "\n",
    "# 3. Perform a statistical test\n",
    "# Using a two-proportion z-test\n",
    "successes = np.array([purchases_B, purchases_A])\n",
    "samples = np.array([emails_sent_B, emails_sent_A])\n",
    "z_stat, p_value = proportions_ztest(successes, samples, alternative='larger')\n",
    "\n",
    "# Print results\n",
    "print(f\"Conversion Rate for A: {conversion_rate_A:.2%}\")\n",
    "print(f\"Conversion Rate for B: {conversion_rate_B:.2%}\")\n",
    "print(f\"Z-statistic: {z_stat:.4f}\")\n",
    "print(f\"P-value: {p_value:.4f}\")\n",
    "\n",
    "# 4. Interpretation\n",
    "if p_value < 0.05:\n",
    "    print(\"Reject the null hypothesis. Version B performs significantly better than Version A.\")\n",
    "else:\n",
    "    print(\"Fail to reject the null hypothesis. There is not enough evidence to conclude that Version B performs better than Version A.\")\n",
    "\n",
    "#If p_value is 0.02, then we can reject the null hypothesis and stop the experiment."
   ]
  },
  {
   "cell_type": "code",
   "execution_count": null,
   "metadata": {},
   "outputs": [],
   "source": []
  }
 ],
 "metadata": {
  "kernelspec": {
   "display_name": "Python 3",
   "language": "python",
   "name": "python3"
  },
  "language_info": {
   "codemirror_mode": {
    "name": "ipython",
    "version": 3
   },
   "file_extension": ".py",
   "mimetype": "text/x-python",
   "name": "python",
   "nbconvert_exporter": "python",
   "pygments_lexer": "ipython3",
   "version": "3.11.0"
  }
 },
 "nbformat": 4,
 "nbformat_minor": 2
}

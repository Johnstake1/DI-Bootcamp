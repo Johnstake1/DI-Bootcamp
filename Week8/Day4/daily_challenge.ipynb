{
 "cells": [
  {
   "cell_type": "code",
   "execution_count": 1,
   "metadata": {},
   "outputs": [
    {
     "name": "stdout",
     "output_type": "stream",
     "text": [
      "Effect Size is:  0.2\n",
      "Required Sample Size is:  393.4056989990351\n"
     ]
    }
   ],
   "source": [
    "#EX1\n",
    "\n",
    "import numpy as np\n",
    "from statsmodels.stats.power import TTestIndPower\n",
    "import pandas as pd\n",
    "\n",
    "effect_size = 0.2\n",
    "print(\"Effect Size is: \", effect_size)\n",
    "\n",
    "power = 0.80\n",
    "\n",
    "alpha = 0.05 # significance level\n",
    "\n",
    "# In order to calculate the required sample size, we have to use the ttest since we do not know the sample size\n",
    "\n",
    "stat_model = TTestIndPower()\n",
    "\n",
    "sample = stat_model.solve_power(effect_size=effect_size, power=power, alpha=alpha, alternative='two-sided')\n",
    "\n",
    "print(\"Required Sample Size is: \", (sample))\n"
   ]
  },
  {
   "cell_type": "code",
   "execution_count": 2,
   "metadata": {},
   "outputs": [
    {
     "name": "stdout",
     "output_type": "stream",
     "text": [
      "Required Sample Size is:  1570.733066331601\n",
      "Required Sample Size is:  393.4056989990351\n",
      "Required Sample Size is:  175.38467227482175\n"
     ]
    }
   ],
   "source": [
    "#EX2\n",
    "\n",
    "effect_size = [0.1, 0.2, 0.3]\n",
    "\n",
    "for _ in effect_size:\n",
    "    sample = stat_model.solve_power(effect_size=_, power=power, alpha=alpha, alternative='two-sided')\n",
    "    print(\"Required Sample Size is: \", (sample))\n",
    "\n",
    "# as lons as the effect size increases, the sample size decreases since a large effect it is easier to detect changes\n"
   ]
  },
  {
   "cell_type": "code",
   "execution_count": null,
   "metadata": {},
   "outputs": [],
   "source": [
    "#EX3\n",
    "\n",
    "#The balance between effect size and sample size is important to avoid bias in the test, avoid false positives and negatives, and to have a good power of the test."
   ]
  }
 ],
 "metadata": {
  "kernelspec": {
   "display_name": "Python 3",
   "language": "python",
   "name": "python3"
  },
  "language_info": {
   "codemirror_mode": {
    "name": "ipython",
    "version": 3
   },
   "file_extension": ".py",
   "mimetype": "text/x-python",
   "name": "python",
   "nbconvert_exporter": "python",
   "pygments_lexer": "ipython3",
   "version": "3.11.0"
  }
 },
 "nbformat": 4,
 "nbformat_minor": 2
}

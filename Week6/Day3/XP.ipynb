{
 "cells": [
  {
   "cell_type": "markdown",
   "metadata": {},
   "source": [
    "Import the SciPy library and explore its version.\n",
    "\n"
   ]
  },
  {
   "cell_type": "code",
   "execution_count": null,
   "metadata": {},
   "outputs": [
    {
     "name": "stdout",
     "output_type": "stream",
     "text": [
      "['BootstrapMethod', 'CensoredData', 'ConstantInputWarning', 'Covariance', 'DegenerateDataWarning', 'FitError', 'MonteCarloMethod', 'NearConstantInputWarning', 'PermutationMethod', '__all__', '__builtins__', '__cached__', '__doc__', '__file__', '__loader__', '__name__', '__package__', '__path__', '__spec__', '_ansari_swilk_statistics', '_axis_nan_policy', '_biasedurn', '_binned_statistic', '_binomtest', '_bws_test', '_censored_data', '_common', '_constants', '_continuous_distns', '_covariance', '_crosstab', '_discrete_distns', '_distn_infrastructure', '_distr_params', '_entropy', '_fit', '_hypotests', '_kde', '_ksstats', '_levy_stable', '_mannwhitneyu', '_mgc', '_morestats', '_mstats_basic', '_mstats_extras', '_multicomp', '_multivariate', '_mvn', '_odds_ratio', '_page_trend_test', '_qmc', '_qmc_cy', '_qmvnt', '_rcont', '_relative_risk', '_resampling', '_rvs_sampling', '_sampling', '_sensitivity_analysis', '_sobol', '_stats', '_stats_mstats_common', '_stats_py', '_stats_pythran', '_survival', '_tukeylambda_stats', '_unuran', '_variation', '_warnings_errors', '_wilcoxon', 'alexandergovern', 'alpha', 'anderson', 'anderson_ksamp', 'anglit', 'ansari', 'arcsine', 'argus', 'barnard_exact', 'bartlett', 'bayes_mvs', 'bernoulli', 'beta', 'betabinom', 'betanbinom', 'betaprime', 'biasedurn', 'binned_statistic', 'binned_statistic_2d', 'binned_statistic_dd', 'binom', 'binomtest', 'boltzmann', 'bootstrap', 'boschloo_exact', 'boxcox', 'boxcox_llf', 'boxcox_normmax', 'boxcox_normplot', 'bradford', 'brunnermunzel', 'burr', 'burr12', 'bws_test', 'cauchy', 'chi', 'chi2', 'chi2_contingency', 'chisquare', 'circmean', 'circstd', 'circvar', 'combine_pvalues', 'contingency', 'cosine', 'cramervonmises', 'cramervonmises_2samp', 'crystalball', 'cumfreq', 'describe', 'dgamma', 'differential_entropy', 'directional_stats', 'dirichlet', 'dirichlet_multinomial', 'distributions', 'dlaplace', 'dunnett', 'dweibull', 'ecdf', 'energy_distance', 'entropy', 'epps_singleton_2samp', 'erlang', 'expectile', 'expon', 'exponnorm', 'exponpow', 'exponweib', 'f', 'f_oneway', 'false_discovery_control', 'fatiguelife', 'find_repeats', 'fisher_exact', 'fisk', 'fit', 'fligner', 'foldcauchy', 'foldnorm', 'friedmanchisquare', 'gamma', 'gausshyper', 'gaussian_kde', 'genexpon', 'genextreme', 'gengamma', 'genhalflogistic', 'genhyperbolic', 'geninvgauss', 'genlogistic', 'gennorm', 'genpareto', 'geom', 'gibrat', 'gmean', 'gompertz', 'goodness_of_fit', 'gstd', 'gumbel_l', 'gumbel_r', 'gzscore', 'halfcauchy', 'halfgennorm', 'halflogistic', 'halfnorm', 'hmean', 'hypergeom', 'hypsecant', 'invgamma', 'invgauss', 'invweibull', 'invwishart', 'iqr', 'irwinhall', 'jarque_bera', 'jf_skew_t', 'johnsonsb', 'johnsonsu', 'kappa3', 'kappa4', 'kde', 'kendalltau', 'kruskal', 'ks_1samp', 'ks_2samp', 'ksone', 'kstat', 'kstatvar', 'kstest', 'kstwo', 'kstwobign', 'kurtosis', 'kurtosistest', 'laplace', 'laplace_asymmetric', 'levene', 'levy', 'levy_l', 'levy_stable', 'linregress', 'loggamma', 'logistic', 'loglaplace', 'lognorm', 'logrank', 'logser', 'loguniform', 'lomax', 'mannwhitneyu', 'matrix_normal', 'maxwell', 'median_abs_deviation', 'median_test', 'mielke', 'mode', 'moment', 'monte_carlo_test', 'mood', 'morestats', 'moyal', 'mstats', 'mstats_basic', 'mstats_extras', 'multinomial', 'multiscale_graphcorr', 'multivariate_hypergeom', 'multivariate_normal', 'multivariate_t', 'mvn', 'mvsdist', 'nakagami', 'nbinom', 'ncf', 'nchypergeom_fisher', 'nchypergeom_wallenius', 'nct', 'ncx2', 'nhypergeom', 'norm', 'normaltest', 'norminvgauss', 'obrientransform', 'ortho_group', 'page_trend_test', 'pareto', 'pearson3', 'pearsonr', 'percentileofscore', 'permutation_test', 'planck', 'pmean', 'pointbiserialr', 'poisson', 'poisson_means_test', 'power', 'power_divergence', 'powerlaw', 'powerlognorm', 'powernorm', 'ppcc_max', 'ppcc_plot', 'probplot', 'qmc', 'quantile_test', 'randint', 'random_correlation', 'random_table', 'rankdata', 'ranksums', 'rayleigh', 'rdist', 'recipinvgauss', 'reciprocal', 'rel_breitwigner', 'relfreq', 'rice', 'rv_continuous', 'rv_discrete', 'rv_histogram', 'rvs_ratio_uniforms', 'sampling', 'scoreatpercentile', 'sem', 'semicircular', 'shapiro', 'siegelslopes', 'sigmaclip', 'skellam', 'skew', 'skewcauchy', 'skewnorm', 'skewtest', 'sobol_indices', 'somersd', 'spearmanr', 'special_ortho_group', 'stats', 'studentized_range', 't', 'test', 'theilslopes', 'tiecorrect', 'tmax', 'tmean', 'tmin', 'trapezoid', 'trapz', 'triang', 'trim1', 'trim_mean', 'trimboth', 'truncexpon', 'truncnorm', 'truncpareto', 'truncweibull_min', 'tsem', 'tstd', 'ttest_1samp', 'ttest_ind', 'ttest_ind_from_stats', 'ttest_rel', 'tukey_hsd', 'tukeylambda', 'tvar', 'uniform', 'uniform_direction', 'unitary_group', 'variation', 'vonmises', 'vonmises_fisher', 'vonmises_line', 'wald', 'wasserstein_distance', 'wasserstein_distance_nd', 'weibull_max', 'weibull_min', 'weightedtau', 'wilcoxon', 'wishart', 'wrapcauchy', 'yeojohnson', 'yeojohnson_llf', 'yeojohnson_normmax', 'yeojohnson_normplot', 'yulesimon', 'zipf', 'zipfian', 'zmap', 'zscore']\n"
     ]
    }
   ],
   "source": [
    "from scipy import stats\n",
    "\n",
    "#we will check the directory of the subpackage stats\n",
    "\n",
    "print(dir(stats))\n",
    "\n",
    "#it is possible to find more information on scipy by using the documentation in their website:\n",
    "#https://docs.scipy.org/doc/scipy/tutorial/index.html#user-guide\n",
    "\n"
   ]
  },
  {
   "cell_type": "markdown",
   "metadata": {},
   "source": [
    "Given a sample dataset, calculate the mean, median, variance, and standard deviation using SciPy.\n"
   ]
  },
  {
   "cell_type": "code",
   "execution_count": 9,
   "metadata": {},
   "outputs": [
    {
     "name": "stdout",
     "output_type": "stream",
     "text": [
      "DescribeResult(nobs=8, minmax=(np.int64(12), np.int64(22)), mean=np.float64(16.625), variance=np.float64(17.125), skewness=np.float64(0.06525681329773589), kurtosis=np.float64(-1.6476734867850917))\n",
      "Number of observations: 8\n",
      "Minimum: 12\n",
      "Maximum: 22\n",
      "Mean: 16.62\n",
      "Variance: 17.12\n",
      "Skewness: 0.07\n",
      "Kurtosis: -1.65\n"
     ]
    }
   ],
   "source": [
    "data = [12, 15, 13, 12, 18, 20, 22, 21]\n",
    "\n",
    "#descriptive statistics\n",
    "\n",
    "descriptive = stats.describe(data)\n",
    "\n",
    "print(descriptive)\n",
    "\n",
    "#since scipy does not provide formatting, we will print each result individually\n",
    "\n",
    "descriptive = stats.describe(data)\n",
    "\n",
    "print(\"Number of observations: %d\" % descriptive.nobs)\n",
    "print(\"Minimum: %d\" % descriptive.minmax[0])\n",
    "print(\"Maximum: %d\" % descriptive.minmax[1])\n",
    "print(\"Mean: %.2f\" % descriptive.mean)\n",
    "print(\"Variance: %.2f\" % descriptive.variance)\n",
    "print(\"Skewness: %.2f\" % descriptive.skewness)\n",
    "print(\"Kurtosis: %.2f\" % descriptive.kurtosis)\n"
   ]
  },
  {
   "cell_type": "markdown",
   "metadata": {},
   "source": [
    "🌟 Exercise 3 : Understanding Distributions\n",
    "\n",
    "\n",
    "Generate a normal distribution using SciPy with a mean of 50 and a standard deviation of 10. Plot this distribution.\n",
    "\n"
   ]
  },
  {
   "cell_type": "code",
   "execution_count": 16,
   "metadata": {},
   "outputs": [
    {
     "name": "stdout",
     "output_type": "stream",
     "text": [
      "[54.5582332  49.89087315 52.74316317 65.05800166 49.50698562 47.01760162\n",
      " 57.78546877 46.35078841 51.29036427 49.95313111 45.97123085 39.88406382\n",
      " 53.02307081 36.99186711 57.39746224 31.8562835  63.1227062  61.69330579\n",
      " 63.39454347 42.06955164 54.62860972 48.56325129 54.96806241 50.36850243\n",
      " 28.45772848 41.32542532 43.06430493 38.99688959 46.35511795 47.25930063\n",
      " 57.6330306  76.79853372 44.52097328 41.96492676 58.99680196 44.64949303\n",
      " 58.12190749 53.7322638  63.75517368 46.15883858 59.02713299 42.60416812\n",
      " 54.90789471 51.97486981 65.99557101 60.19843746 48.89939647 52.31772183\n",
      " 57.64527481 45.83095304 44.90749885 49.53122395 56.69016918 49.15717971\n",
      " 55.06211511 38.47672387 57.3235273  56.30675994 40.24395776 36.90069728\n",
      " 46.9130557  56.83685803 44.45261172 40.44578442 57.11581468 47.11728244\n",
      " 35.84934564 49.69513887 61.45283066 59.99875382 65.18246752 51.52001399\n",
      " 46.67838645 41.84941129 50.96141477 48.58718857 38.58332014 45.64136744\n",
      " 62.99908346 50.95471385 45.27336621 37.35559011 69.36717325 52.25603435\n",
      " 48.53800938 50.33136073 27.68644448 37.15505916 70.4113648  58.63621941\n",
      " 35.45874741 35.69006486 48.06296018 51.95662135 48.13045504 46.49643981\n",
      " 56.41725365 54.81829433 30.37099448 55.88314475 53.05991759 62.97575426\n",
      " 57.29199436 34.6942694  44.23403449 44.72120617 44.96557711 50.14154914\n",
      " 68.64361813 48.50790776 26.2019294  46.2153682  53.21177097 55.69028327\n",
      " 56.96406134 34.51174775 38.04526721 49.41228218 45.14690623 47.88100384\n",
      " 45.56086714 55.82344439 40.58994925 57.79536726 55.56370163 38.63982825\n",
      " 54.62631404 28.2431977  43.29731191 47.25919494 53.73969356 70.54810508\n",
      " 32.81651836 56.46289591 41.82410734 44.12707488 51.01481339 50.24950819\n",
      " 37.05885669 39.35738427 31.1502144  44.01293106 49.70982177 50.22598006\n",
      " 75.48039943 36.21443285 47.18632195 39.06129044 59.38651186 49.80575476\n",
      " 54.78378023 63.3874067  47.93914117 36.49342834 50.47347756 52.71793474\n",
      " 52.01600766 59.45541222 51.55762632 36.86722374 49.45108787 46.28695111\n",
      " 51.73742824 55.40543745 43.82347041 50.82359371 63.14270199 58.12124804\n",
      " 34.48940975 33.85656413 64.80904327 53.8143669  52.48219987 45.25210551\n",
      " 56.00698482 42.55125886 63.45139018 51.03163195 52.9950967  57.36056396\n",
      " 61.56145693 44.5253539  62.87718877 55.33551797 55.50267025 44.29143966\n",
      " 29.73791895 68.969364   32.17082841 41.72873789 42.71970169 40.80940641\n",
      " 53.46211093 47.24634646 50.76415903 62.5743947  55.89190707 35.35194679\n",
      " 48.18888431 55.55796101 46.62327698 54.62518867 60.43087265 36.74558268\n",
      " 23.48367824 47.09317279 48.29118105 41.80446129 62.2731679  50.63157072\n",
      " 54.95569841 39.73549988 63.49800858 54.19894607 45.27480677 52.03557978\n",
      " 56.33659606 44.45345897 35.85696121 52.93713505 46.8700884  74.99064915\n",
      " 61.33911199 40.83778772 56.30720314 42.35507185 42.24038012 47.79957409\n",
      " 51.06393258 62.95301637 56.25869018 40.09454885 43.88485366 36.14053679\n",
      " 55.51700357 34.78360429 54.50839894 30.45581484 55.47445134 70.33145857\n",
      " 61.21252013 56.46740371 41.39675171 45.918645   65.306731   56.42150414\n",
      " 49.41967    67.41612956 50.76049027 53.26613921 42.96167927 66.28455905\n",
      " 48.78960523 63.42849863 56.84362889 58.20288985 50.41424087 41.14675905\n",
      " 54.3295944  61.06334718 45.65084322 49.89633549 61.08834406 55.91354123\n",
      " 53.348562   50.39281093 48.22460596 63.80272466 26.14092562 49.55904053\n",
      " 41.57206313 51.77478644 38.98942788 51.36790911 70.91843954 42.94335442\n",
      " 48.18890539 45.93259974 55.8871316  55.94275489 45.76761725 53.70428209\n",
      " 55.54685678 53.27827122 67.04030562 51.41763714 62.27235509 45.65164096\n",
      " 82.51482086 51.87266747 48.38652124 40.98307086 38.09686593 41.96883262\n",
      " 74.81823471 33.24985664 47.18239487 52.45255259 48.59774432 52.26305953\n",
      " 43.27579317 45.66235032 60.36593024 49.77078701 51.1962392  41.7433962\n",
      " 48.43654406 49.18974063 57.74214169 56.85301998 33.86428359 63.97659046\n",
      " 46.42907543 57.06308296 53.9490378  56.26309876 55.93028069 45.71855666\n",
      " 42.00336041 73.07525041 62.09346729 66.07997726 55.98353528 51.73429257\n",
      " 62.06980644 62.62868116 38.78361003 52.06083703 65.33683477 62.11717237\n",
      " 61.06723167 59.13409661 55.09523719 52.26491074 55.70536635 61.95640697\n",
      " 42.77300325 56.59833289 56.81309043 47.37533909 47.67571792 52.42244863\n",
      " 55.66978474 56.17997888 60.64667905 50.02144949 44.20753788 53.49169407\n",
      " 49.10955065 53.32781685 62.87807004 54.97325843 49.24696733 36.04856683\n",
      " 47.90743844 39.24630609 46.80425636 49.25425173 85.9986301  68.43700854\n",
      " 55.33762516 32.91355546 43.27862784 39.29212513 50.96386222 52.79146739\n",
      " 48.68690781 47.33993149 48.7094197  46.97268626 59.22937884 65.60113874\n",
      " 45.6556585  55.00921182 57.12023361 36.87879237 42.28898006 48.92463666\n",
      " 45.14213991 59.313561   54.7041043  50.02422226 48.23550942 34.7294791\n",
      " 51.28259083 57.21907407 38.42654261 35.06539471 41.29246893 49.2014592\n",
      " 44.96278578 47.29283882 51.75762249 68.96132712 48.07376032 36.64648963\n",
      " 59.60575837 48.07281025 49.27659111 67.64026079 68.38206108 51.15260149\n",
      " 53.29459271 43.16587304 60.85441708 41.52813309 58.15974488 49.47851958\n",
      " 60.29346272 55.80297452 62.82886794 33.07521457 46.47768389 65.09162246\n",
      " 43.72819753 55.42069115 53.37514919 61.36109038 48.00580635 42.34055474\n",
      " 55.88718706 36.87268023 60.94481855 46.63183154 62.11630834 52.4661573\n",
      " 39.72219953 58.38327928 49.56979003 40.75552847 51.38287245 59.98228913\n",
      " 50.55691817 45.19139506 31.55207203 57.8203536  22.9884474  40.845997\n",
      " 51.94566809 43.91916741 38.01480222 53.62671843 53.18050135 50.15717078\n",
      " 60.06528245 53.76717838 65.28593592 49.57390797 54.76726563 60.51531059\n",
      " 59.25899035 54.61826647 57.6839617  33.8235606  47.13373956 51.37389578\n",
      " 59.07388122 57.99342966 66.00566734 59.06825858 41.59389843 39.78492441\n",
      " 38.51886311 50.53053963 48.79518437 49.27866085 36.82989963 53.00261205\n",
      " 25.07102465 45.96655012 53.03711126 62.39354477 41.98400456 48.67046471\n",
      " 59.81791066 52.37185804 48.5721621  35.29838943 69.55047588 51.4253228\n",
      " 63.97176329 57.27481551 59.0959226  51.58704936 36.92005637 63.20178296\n",
      " 42.4180611  54.37957861 65.05457908 42.42680058 42.47261623 60.53599218\n",
      " 50.3808521  51.62676483 49.70341906 52.8879684  65.71207055 28.51168126\n",
      " 68.05125936 62.44538546 60.52643661 53.63092872 47.5367316  56.00967736\n",
      " 55.12373173 41.10000827 53.95623528 54.43063817 35.9356967  45.0444146\n",
      " 59.47589859 39.19861224 56.03357766 49.4897539  58.70664965 52.89642312\n",
      " 49.49979649 39.013308   39.26397391 45.4183776  56.12297724 44.40126075\n",
      " 45.85964405 35.67776633 31.60445662 45.44182171 44.48476613 68.48097706\n",
      " 38.01457444 46.28123948 51.99212646 25.895911   48.59571982 38.97217762\n",
      " 35.87507848 43.99554875 48.29135735 60.46408696 59.63635416 56.18467195\n",
      " 56.76229414 42.719785   51.01483858 48.76269924 44.9165329  53.42384129\n",
      " 39.11808139 51.67503692 53.28915662 64.11799112 51.59085967 50.9081315\n",
      " 59.02330775 50.94646301 56.30574849 41.3634376  40.59237026 35.56621931\n",
      " 43.0872023  62.39654401 64.14136449 56.92574486 42.88446223 55.82350688\n",
      " 40.98362293 48.3768812  44.64535358 47.61912728 52.34756591 45.75880578\n",
      " 32.07937636 43.85889514 56.47861001 56.41522829 45.30086108 46.70033564\n",
      " 54.59792529 43.00562862 49.12640793 35.37736009 53.6879552  50.65478622\n",
      " 46.25579694 55.86047267 46.91945839 33.5576568  43.87028754 38.92896919\n",
      " 37.39842684 39.13157753 59.23122749 48.09424884 51.69395396 41.28733739\n",
      " 46.04086063 65.47109334 53.87725011 44.40514107 40.46940001 50.20824969\n",
      " 64.80557989 45.75851336 42.07941239 45.20744466 59.84208046 47.3179748\n",
      " 55.00227888 39.92154263 45.0063523  33.63829872 54.4935747  63.87088698\n",
      " 45.56689826 58.70070036 66.45741062 38.65198702 46.13244701 46.70111667\n",
      " 46.02685326 62.28898034 55.18199902 41.93970997 40.79253873 53.85323457\n",
      " 49.06865421 44.17267876 58.05155985 46.48133074 53.21844685 42.62514008\n",
      " 48.22452594 51.43997324 43.25139714 33.04046104 60.07321289 68.05544737\n",
      " 53.62911972 49.67846418 29.98207752 44.92671754 55.93064335 65.06033321\n",
      " 31.89244657 51.7917269  56.05176927 54.62495703 41.9225751  41.24036725\n",
      " 39.61862311 64.40664954 50.51485963 60.35473395 45.28503633 47.67272933\n",
      " 38.9174714  44.69950112 43.57228594 52.92304667 65.1662441  57.90576181\n",
      " 39.7029655  38.15603423 47.9817711  32.89990694 43.72470806 38.6661531\n",
      " 43.26187772 42.44913987 35.39895347 39.80646382 26.80425742 45.87322891\n",
      " 60.65291792 42.8158417  51.58446188 42.71445386 45.0176422  36.84558624\n",
      " 50.95642072 34.39431287 59.94662948 64.24630022 46.60443745 53.12303468\n",
      " 53.8329303  48.14248979 64.98836321 65.73080562 56.1967037  44.02670854\n",
      " 44.10907619 55.08993594 38.73156575 50.57682316 39.04025976 48.29206686\n",
      " 41.56186393 74.37628562 47.89293739 48.62430716 43.6098265  26.91871083\n",
      " 46.64283281 65.85723159 45.82790923 55.82869248 49.97262751 59.88821162\n",
      " 62.75567549 50.62165206 30.0846571  59.41388165 38.36371501 54.54488621\n",
      " 52.25015194 64.97206519 56.10219594 40.5783389  46.30523627 44.61220215\n",
      " 52.61814611 42.93373958 42.91495915 49.55345462 50.52126382 66.19187115\n",
      " 65.58438166 40.13603551 45.73352637 55.06014926 40.71318006 47.92974308\n",
      " 36.99458041 46.66517825 52.58861674 34.06663131 84.09672608 50.31930683\n",
      " 55.18693531 32.51296009 37.15496891 65.13066536 44.14880897 40.7689534\n",
      " 46.99730193 26.93375176 52.93736182 46.06168178 51.88759337 45.44814736\n",
      " 65.48684838 32.51274725 45.50919608 50.13410176 46.67807593 56.88593763\n",
      " 50.30969361 44.1664967  67.88819914 58.32605734 59.03900407 41.91657189\n",
      " 53.35256279 57.12163485 47.00590662 59.66768144 54.76433937 55.26019697\n",
      " 33.79873379 35.81431945 47.59147969 56.44861566 45.98576395 59.28119416\n",
      " 46.44201467 41.57010812 59.54309036 48.03871392 41.15772113 65.52901221\n",
      " 41.68581844 57.36290717 42.80013878 33.63483512 50.04079655 76.14583924\n",
      " 37.90836062 40.98333865 40.77740557 39.79714036 60.15992773 47.46653144\n",
      " 45.63321993 53.01436318 63.16624853 45.5770656  53.35374675 49.06054994\n",
      " 80.51429269 35.29668432 50.0325494  57.362984   59.24776558 34.44932614\n",
      " 55.78535345 46.6786535  50.72292009 41.23564246 54.56904911 46.45180403\n",
      " 60.78210791 55.22111534 45.20281331 58.01815289 60.68101391 55.84122394\n",
      " 52.94716439 42.4455311  58.86567967 51.00108206 54.24035878 53.96120213\n",
      " 52.59870738 43.05828153 53.17927584 45.65757821 52.12106633 64.92812704\n",
      " 40.60240941 36.37474147 42.05151353 41.75645502 49.94601533 53.25069967\n",
      " 40.78891128 66.47599325 36.18250787 51.15265799 38.75108052 62.68229573\n",
      " 55.24671839 54.34053101 44.5433773  53.88840622 40.00915764 65.14932388\n",
      " 44.30070738 48.61854992 49.91517594 42.11740744 43.76359451 51.01926979\n",
      " 34.82539905 49.15825579 37.65078661 47.45381966 71.48205763 49.40065444\n",
      " 59.23216292 39.26018179 56.39748341 61.16934575 45.51092847 26.48703126\n",
      " 40.34704696 45.96857485 62.36797543 55.79111145 52.8500488  46.61165725\n",
      " 45.1097777  46.08034629 43.40653621 58.86072553 63.33182611 49.54400376\n",
      " 57.28618028 62.79307494 48.25382551 40.61876294 32.96646902 31.99856438\n",
      " 41.62391953 41.39341406 51.47787648 42.90228545 40.26688214 63.70030772\n",
      " 26.48933744 45.55454571 46.61152899 54.147979   63.61463577 45.6291896\n",
      " 31.14252789 37.32970354 52.12657811 43.7829954  53.43578832 57.27633541\n",
      " 41.72245747 70.61466288 48.75152206 53.10073297 56.15084553 42.1068568\n",
      " 45.08377102 43.27379758 48.48140868 68.51609623 56.89071756 44.57974466\n",
      " 59.73540496 56.07838278 47.45066015 31.66796356 62.52132914 55.43991155\n",
      " 57.2398344  49.8182412  37.95680626 37.45462699 49.28836118 50.5843292\n",
      " 54.30411208 32.9907117  54.76297389 39.94140448 44.82251369 43.37136681\n",
      " 56.07505401 47.30535632 69.59363522 57.80250372 48.29025723 39.9052962\n",
      " 40.07073126 44.44899577 62.3529443  50.44595881 57.02117484 63.84673028\n",
      " 51.63418319 60.40368764 38.70989835 34.31794884 53.11391232 39.22839926\n",
      " 44.55372862 48.10168955 29.53981929 42.97123562 43.68862112 59.07925908\n",
      " 46.29818845 57.57530545 56.3572546  42.54555981 40.69339039 41.51920149\n",
      " 51.55356809 59.41714402 37.15802114 47.55160486 61.73354162 52.91270158\n",
      " 47.21329547 54.56137824 63.30240141 50.75599503 37.66973365 53.33357677\n",
      " 47.3855675  46.80746948 45.28433906 30.44476827 48.21378082 59.07781356\n",
      " 24.66755985 41.91008656 43.0822872  66.89348255 68.81951617 52.66401429\n",
      " 33.02028961 40.52522863 48.07175243 50.07816759 45.88291196 32.24593548\n",
      " 39.85145482 51.17586794 62.50988707 58.90256255 39.62267222 43.68685226\n",
      " 59.93781278 41.42741949 62.77758145 49.8305884 ]\n"
     ]
    }
   ],
   "source": [
    "normal_distribution = stats.norm.rvs(loc=50, scale=10, size=1000)\n",
    "\n",
    "print(normal_distribution)"
   ]
  },
  {
   "cell_type": "markdown",
   "metadata": {},
   "source": [
    "🌟 Exercise 4 : T-Test Application\n",
    "\n",
    "Perform a T-test on two sets of randomly generated data. Hint: Use numpy.random.normal() to generate the datasets.\n",
    "\n"
   ]
  },
  {
   "cell_type": "code",
   "execution_count": 10,
   "metadata": {},
   "outputs": [],
   "source": [
    "import numpy as np\n",
    "from scipy.stats import ttest_rel\n",
    "\n",
    "#generate two sets of data\n",
    "\n",
    "data1 = np.random.normal(0, 1, 100)\n",
    "data2 = np.random.normal(0, 1, 100)\n",
    "\n"
   ]
  },
  {
   "cell_type": "code",
   "execution_count": 11,
   "metadata": {},
   "outputs": [
    {
     "name": "stdout",
     "output_type": "stream",
     "text": [
      "Fail to reject null hypothesis\n"
     ]
    }
   ],
   "source": [
    "#perform the t-test\n",
    "t_stat, p_value =  ttest_rel(data1, data2)\n",
    "\n",
    "if p_value <0.05:\n",
    "    print(\"Reject null hypothesis\")\n",
    "else:\n",
    "    print(\"Fail to reject null hypothesis\")"
   ]
  },
  {
   "cell_type": "markdown",
   "metadata": {},
   "source": [
    "🌟 Exercise 5 : Working with DataFrames\n",
    "\n",
    "Import Iris datase and calculate descriptive statistics for a specific column using SciPy."
   ]
  },
  {
   "cell_type": "code",
   "execution_count": 18,
   "metadata": {},
   "outputs": [
    {
     "data": {
      "text/html": [
       "<div>\n",
       "<style scoped>\n",
       "    .dataframe tbody tr th:only-of-type {\n",
       "        vertical-align: middle;\n",
       "    }\n",
       "\n",
       "    .dataframe tbody tr th {\n",
       "        vertical-align: top;\n",
       "    }\n",
       "\n",
       "    .dataframe thead th {\n",
       "        text-align: right;\n",
       "    }\n",
       "</style>\n",
       "<table border=\"1\" class=\"dataframe\">\n",
       "  <thead>\n",
       "    <tr style=\"text-align: right;\">\n",
       "      <th></th>\n",
       "      <th>sepal_length</th>\n",
       "      <th>sepal_width</th>\n",
       "      <th>petal_length</th>\n",
       "      <th>petal_width</th>\n",
       "      <th>species</th>\n",
       "    </tr>\n",
       "  </thead>\n",
       "  <tbody>\n",
       "    <tr>\n",
       "      <th>0</th>\n",
       "      <td>5.1</td>\n",
       "      <td>3.5</td>\n",
       "      <td>1.4</td>\n",
       "      <td>0.2</td>\n",
       "      <td>Iris-setosa</td>\n",
       "    </tr>\n",
       "    <tr>\n",
       "      <th>1</th>\n",
       "      <td>4.9</td>\n",
       "      <td>3.0</td>\n",
       "      <td>1.4</td>\n",
       "      <td>0.2</td>\n",
       "      <td>Iris-setosa</td>\n",
       "    </tr>\n",
       "    <tr>\n",
       "      <th>2</th>\n",
       "      <td>4.7</td>\n",
       "      <td>3.2</td>\n",
       "      <td>1.3</td>\n",
       "      <td>0.2</td>\n",
       "      <td>Iris-setosa</td>\n",
       "    </tr>\n",
       "    <tr>\n",
       "      <th>3</th>\n",
       "      <td>4.6</td>\n",
       "      <td>3.1</td>\n",
       "      <td>1.5</td>\n",
       "      <td>0.2</td>\n",
       "      <td>Iris-setosa</td>\n",
       "    </tr>\n",
       "    <tr>\n",
       "      <th>4</th>\n",
       "      <td>5.0</td>\n",
       "      <td>3.6</td>\n",
       "      <td>1.4</td>\n",
       "      <td>0.2</td>\n",
       "      <td>Iris-setosa</td>\n",
       "    </tr>\n",
       "  </tbody>\n",
       "</table>\n",
       "</div>"
      ],
      "text/plain": [
       "   sepal_length  sepal_width  petal_length  petal_width      species\n",
       "0           5.1          3.5           1.4          0.2  Iris-setosa\n",
       "1           4.9          3.0           1.4          0.2  Iris-setosa\n",
       "2           4.7          3.2           1.3          0.2  Iris-setosa\n",
       "3           4.6          3.1           1.5          0.2  Iris-setosa\n",
       "4           5.0          3.6           1.4          0.2  Iris-setosa"
      ]
     },
     "execution_count": 18,
     "metadata": {},
     "output_type": "execute_result"
    }
   ],
   "source": [
    "import pandas as pd\n",
    "from scipy import stats\n",
    "\n",
    "df = pd.read_csv('IRIS.csv')\n",
    "df.head()"
   ]
  },
  {
   "cell_type": "code",
   "execution_count": 20,
   "metadata": {},
   "outputs": [
    {
     "name": "stdout",
     "output_type": "stream",
     "text": [
      "DescribeResult(nobs=150, minmax=(np.float64(4.3), np.float64(7.9)), mean=np.float64(5.843333333333334), variance=np.float64(0.6856935123042507), skewness=np.float64(0.3117530585022963), kurtosis=np.float64(-0.5735679489249765))\n",
      "Number of observations: 150\n",
      "Minimum: 4\n",
      "Maximum: 7\n",
      "Mean: 5.84\n",
      "Variance: 0.69\n",
      "Skewness: 0.31\n",
      "Kurtosis: -0.57\n"
     ]
    }
   ],
   "source": [
    "descriptive_iris = stats.describe(df['sepal_length'])\n",
    "print(descriptive_iris)\n",
    "\n",
    "print(\"Number of observations: %d\" % descriptive_iris.nobs)\n",
    "print(\"Minimum: %d\" % descriptive_iris.minmax[0])\n",
    "print(\"Maximum: %d\" % descriptive_iris.minmax[1])\n",
    "print(\"Mean: %.2f\" % descriptive_iris.mean)\n",
    "print(\"Variance: %.2f\" % descriptive_iris.variance)\n",
    "print(\"Skewness: %.2f\" % descriptive_iris.skewness)\n",
    "print(\"Kurtosis: %.2f\" % descriptive_iris.kurtosis)"
   ]
  },
  {
   "cell_type": "markdown",
   "metadata": {},
   "source": [
    "🌟 Exercise 6 : Advanced Statistical Functions\n",
    "\n",
    "Task: Explore one advanced statistical function in SciPy and demonstrate its use with an example.\n",
    "\n"
   ]
  },
  {
   "cell_type": "code",
   "execution_count": 23,
   "metadata": {},
   "outputs": [
    {
     "name": "stdout",
     "output_type": "stream",
     "text": [
      "[[-0.14285714  0.21428571]\n",
      " [ 0.28571429 -0.17857143]]\n"
     ]
    }
   ],
   "source": [
    "from scipy import linalg\n",
    "a = np.array([[5,6],[8,4]])\n",
    "b = linalg.inv(a)\n",
    "print(b)"
   ]
  },
  {
   "cell_type": "markdown",
   "metadata": {},
   "source": []
  }
 ],
 "metadata": {
  "kernelspec": {
   "display_name": "Python 3",
   "language": "python",
   "name": "python3"
  },
  "language_info": {
   "codemirror_mode": {
    "name": "ipython",
    "version": 3
   },
   "file_extension": ".py",
   "mimetype": "text/x-python",
   "name": "python",
   "nbconvert_exporter": "python",
   "pygments_lexer": "ipython3",
   "version": "3.11.0"
  }
 },
 "nbformat": 4,
 "nbformat_minor": 2
}

{
 "cells": [
  {
   "cell_type": "markdown",
   "metadata": {},
   "source": [
    "🌟 Exercise 1 : Matrix Operations\n"
   ]
  },
  {
   "cell_type": "code",
   "execution_count": 23,
   "metadata": {},
   "outputs": [
    {
     "name": "stdout",
     "output_type": "stream",
     "text": [
      "[[  6   9 -10]\n",
      " [  9   0  -7]\n",
      " [  2  -6   7]]\n"
     ]
    }
   ],
   "source": [
    "import numpy as np\n",
    "import pandas as pd\n",
    "\n",
    "matrix = np.random.randint(-10, 10, (3, 3))\n",
    "print(matrix)\n",
    "\n",
    "\n",
    "\n"
   ]
  },
  {
   "cell_type": "code",
   "execution_count": 28,
   "metadata": {},
   "outputs": [
    {
     "name": "stdout",
     "output_type": "stream",
     "text": [
      "-405.0\n",
      "[[ 0.1037037   0.00740741  0.15555556]\n",
      " [ 0.19012346 -0.15308642  0.11851852]\n",
      " [ 0.13333333 -0.13333333  0.2       ]]\n"
     ]
    }
   ],
   "source": [
    "#Calculate the determinant of the matrix\n",
    "\n",
    "determinant_matrix = np.linalg.det(matrix).round(2)\n",
    "print(determinant_matrix)\n",
    "\n",
    "#Find the inverse of the matrix\n",
    "inverse_matrix = np.linalg.inv(matrix)\n",
    "print(inverse_matrix)\n"
   ]
  },
  {
   "cell_type": "markdown",
   "metadata": {},
   "source": [
    "🌟 Exercise 2 : Statistical Analysis\n"
   ]
  },
  {
   "cell_type": "code",
   "execution_count": 29,
   "metadata": {},
   "outputs": [],
   "source": [
    "#Using Numpy, generate an array of 50 random numbers.\n",
    "\n",
    "array = np.random.randint(-100, 100, 50)"
   ]
  },
  {
   "cell_type": "code",
   "execution_count": 34,
   "metadata": {},
   "outputs": [
    {
     "name": "stdout",
     "output_type": "stream",
     "text": [
      "The mean for the random dataset is: -5.06\n",
      "The median for the random dataset is: -3.0\n",
      "The standard deviation for the random dataset is: 53.9278814714615\n"
     ]
    }
   ],
   "source": [
    "mean = np.mean(array)\n",
    "print(f'The mean for the random dataset is: {mean}')\n",
    "\n",
    "median = np.median(array)\n",
    "print(f'The median for the random dataset is: {median}')\n",
    "\n",
    "std_dev = np.std(array)\n",
    "print(f'The standard deviation for the random dataset is: {std_dev}')"
   ]
  },
  {
   "cell_type": "markdown",
   "metadata": {},
   "source": [
    "🌟 Exercise 3 : Date Manipulation\n"
   ]
  },
  {
   "cell_type": "code",
   "execution_count": 49,
   "metadata": {},
   "outputs": [
    {
     "name": "stdout",
     "output_type": "stream",
     "text": [
      "['2023-01-01' '2023-01-02' '2023-01-03' '2023-01-04' '2023-01-05'\n",
      " '2023-01-06' '2023-01-07' '2023-01-08' '2023-01-09' '2023-01-10'\n",
      " '2023-01-11' '2023-01-12' '2023-01-13' '2023-01-14' '2023-01-15'\n",
      " '2023-01-16' '2023-01-17' '2023-01-18' '2023-01-19' '2023-01-20'\n",
      " '2023-01-21' '2023-01-22' '2023-01-23' '2023-01-24' '2023-01-25'\n",
      " '2023-01-26' '2023-01-27' '2023-01-28' '2023-01-29' '2023-01-30'\n",
      " '2023-01-31']\n"
     ]
    }
   ],
   "source": [
    "dates = np.datetime64('2023-01-01') + np.arange(0, 31)\n",
    "print(dates)"
   ]
  },
  {
   "cell_type": "code",
   "execution_count": 51,
   "metadata": {},
   "outputs": [
    {
     "name": "stdout",
     "output_type": "stream",
     "text": [
      "['2023-01-01' '2023-01-02' '2023-01-03' '2023-01-04' '2023-01-05'\n",
      " '2023-01-06' '2023-01-07' '2023-01-08' '2023-01-09' '2023-01-10'\n",
      " '2023-01-11' '2023-01-12' '2023-01-13' '2023-01-14' '2023-01-15'\n",
      " '2023-01-16' '2023-01-17' '2023-01-18' '2023-01-19' '2023-01-20'\n",
      " '2023-01-21' '2023-01-22' '2023-01-23' '2023-01-24' '2023-01-25'\n",
      " '2023-01-26' '2023-01-27' '2023-01-28' '2023-01-29' '2023-01-30'\n",
      " '2023-01-31']\n"
     ]
    }
   ],
   "source": [
    "#Convert these dates to another format (YYYY/MM/DD) using numpy\n",
    "\n",
    "conversion_dates = np.datetime_as_string(dates, unit='D')\n",
    "\n",
    "print(conversion_dates)\n",
    "\n"
   ]
  },
  {
   "cell_type": "markdown",
   "metadata": {},
   "source": [
    "🌟 Exercise 4 : Data Manipulation with NumPy and Pandas\n"
   ]
  },
  {
   "cell_type": "code",
   "execution_count": 54,
   "metadata": {},
   "outputs": [
    {
     "name": "stdout",
     "output_type": "stream",
     "text": [
      "[[  2  -2 -10]\n",
      " [ -1   1  -4]\n",
      " [ -1   7   6]]\n"
     ]
    }
   ],
   "source": [
    "random_data = np.random.randint(-10, 10, (3, 3))\n",
    "print(random_data)"
   ]
  },
  {
   "cell_type": "code",
   "execution_count": 56,
   "metadata": {},
   "outputs": [
    {
     "name": "stdout",
     "output_type": "stream",
     "text": [
      "   A  B   C\n",
      "0  2 -2 -10\n",
      "1 -1  1  -4\n",
      "2 -1  7   6\n"
     ]
    }
   ],
   "source": [
    "import pandas as pd\n",
    "\n",
    "#Create pandas dataframe\n",
    "\n",
    "df = pd.DataFrame(random_data, columns=['A', 'B', 'C'])\n",
    "\n",
    "print(df)"
   ]
  },
  {
   "cell_type": "code",
   "execution_count": null,
   "metadata": {},
   "outputs": [
    {
     "name": "stdout",
     "output_type": "stream",
     "text": [
      "   A  B   C  D\n",
      "0  2 -2 -10  0\n",
      "The sum for the DataFrame is:\n",
      "A    0\n",
      "B    6\n",
      "C   -8\n",
      "D    6\n",
      "dtype: int64\n",
      "The mean for the Dataframe is:\n",
      "A    0.000000\n",
      "B    2.000000\n",
      "C   -2.666667\n",
      "D    2.000000\n",
      "dtype: float64\n"
     ]
    }
   ],
   "source": [
    "#conditional selection of data\n",
    "\n",
    "print(df[df['A'] > 0]) #give me all values in A that are greater than 0\n",
    "\n",
    "#agregation functions like sum and average\n",
    "\n",
    "df['D'] = df['A'] + df['B'] #add a new column D to the dataframe\n",
    "\n",
    "df.sum()\n",
    "print(f'The sum for the DataFrame is:\\n{df.sum()}')\n",
    "df.mean()\n",
    "print(f'The mean for the Dataframe is:\\n{df.mean()}')\n"
   ]
  },
  {
   "cell_type": "markdown",
   "metadata": {},
   "source": [
    "🌟 Exercise 5 : Image Representation\n"
   ]
  },
  {
   "cell_type": "code",
   "execution_count": 83,
   "metadata": {},
   "outputs": [
    {
     "name": "stdout",
     "output_type": "stream",
     "text": [
      "[[201 238 250  80 186]\n",
      " [185 147 135 111  59]\n",
      " [ 44  56  68 127 247]\n",
      " [ 53 132 244  56  25]\n",
      " [115 122 106 199  25]]\n"
     ]
    }
   ],
   "source": [
    "import matplotlib.pyplot as plt\n",
    "import numpy as np\n",
    "\n",
    "height, width = 10, 10\n",
    "\n",
    "array = np.random.randint(0, 255, (5,5))\n",
    "print(array)\n",
    "\n",
    "\n"
   ]
  },
  {
   "cell_type": "code",
   "execution_count": 108,
   "metadata": {},
   "outputs": [
    {
     "data": {
      "image/png": "[encoded data removed]",
      "text/plain": [
       "<Figure size 640x480 with 1 Axes>"
      ]
     },
     "metadata": {},
     "output_type": "display_data"
    }
   ],
   "source": [
    "grayscale = np.zeros((height, width), dtype=np.uint8)\n",
    "\n",
    "for i in range(height):\n",
    "    for j in range(width):\n",
    "        grayscale[i, j] = (i * 25 % 256 + j * 25 % 256 + (i + j) * 15 % 256) // 3\n",
    "\n",
    "plt.imshow(grayscale, cmap='gray')\n",
    "plt.title(\"Grayscale Image\")\n",
    "plt.axis('off')  # Turn off the axis\n",
    "plt.show()\n",
    "\n"
   ]
  },
  {
   "cell_type": "markdown",
   "metadata": {},
   "source": [
    "🌟 Exercise 6 : Basic Hypothesis Testing\n"
   ]
  },
  {
   "cell_type": "code",
   "execution_count": 113,
   "metadata": {},
   "outputs": [
    {
     "name": "stdout",
     "output_type": "stream",
     "text": [
      "[58.50197518 53.10238225 47.26929868 51.63018488 46.96633824 55.32510818\n",
      " 58.46461581 48.31794072 59.30864009 41.32087039 44.96435661 37.16803599\n",
      " 44.20400422 57.03779255 39.60763635 49.93025238 32.06228892 55.02760628\n",
      " 47.43538312 40.43739673 43.33001899 51.78563083 60.94639946 45.21191372\n",
      " 32.52580634 31.56825568 36.13563438 36.31090707 32.52492249 57.09074965]\n",
      "[64.04965312 56.73714629 55.65019607 59.47510895 49.6877608  61.89333458\n",
      " 68.13667505 55.76407327 66.08800113 41.41802153 48.05337926 45.42004552\n",
      " 53.73651165 62.03862117 41.5294422  56.64084769 35.21662089 59.29088567\n",
      " 56.87481564 42.22367522 47.49757878 58.89372403 69.60122997 52.40310263\n",
      " 37.24480537 37.51848285 41.71566813 41.27845107 36.23258246 62.45053122]\n"
     ]
    }
   ],
   "source": [
    "import numpy as np\n",
    "\n",
    "# Productivity scores of employees before the training program\n",
    "productivity_before = np.random.normal(loc=50, scale=10, size=30)\n",
    "\n",
    "print(productivity_before)\n",
    "\n",
    "# Productivity scores of the same employees after the training program\n",
    "productivity_after = productivity_before + np.random.normal(loc=5, scale=3, size=30)\n",
    "\n",
    "print(productivity_after)\n",
    "\n",
    "# Your task is to formulate a hypothesis regarding the training program's effectiveness \n",
    "# and test it using basic statistical functions in NumPy.\n",
    "\n"
   ]
  },
  {
   "cell_type": "code",
   "execution_count": 119,
   "metadata": {},
   "outputs": [
    {
     "name": "stdout",
     "output_type": "stream",
     "text": [
      "T-statistic: -12.41758325353779\n",
      "P-value: 3.9291343435357984e-13\n",
      "Reject the Null Hypothesis (H0): The productivity scores of the same employees afer the training program improved\n"
     ]
    }
   ],
   "source": [
    "#Given a dataset, formulate a simple hypothesis and test it using basic statistical functions in NumPy.\n",
    "\n",
    "import numpy as np\n",
    "from scipy.stats import ttest_rel\n",
    "\n",
    "t_statistic, p_value = ttest_rel(productivity_before, productivity_after)\n",
    "\n",
    "print(\"T-statistic:\", t_statistic)\n",
    "print(\"P-value:\", p_value)\n",
    "\n",
    "alpha=0.05\n",
    "\n",
    "if p_value < alpha:\n",
    "    print(\"Reject the Null Hypothesis (H0): The productivity scores of the same employees afer the training program improved\")\n",
    "else:\n",
    "    print(\"Fail to Reject the Null Hypothesis (H0): No significant evidence that the productivity of the employees improved after the program.\")\n"
   ]
  },
  {
   "cell_type": "markdown",
   "metadata": {},
   "source": [
    "🌟 Exercise 7 : Complex Array Comparison\n"
   ]
  },
  {
   "cell_type": "code",
   "execution_count": 121,
   "metadata": {},
   "outputs": [
    {
     "name": "stdout",
     "output_type": "stream",
     "text": [
      "[[ 8  3 -2]\n",
      " [ 7  6 -8]\n",
      " [ 3 -5 -2]]\n",
      "[[-2 -1  7]\n",
      " [-9  5  4]\n",
      " [ 4 -4 -5]]\n"
     ]
    }
   ],
   "source": [
    "array1 = np.random.randint(-10, 10, (3, 3))\n",
    "\n",
    "array2 = np.random.randint(-10, 10, (3, 3))\n",
    "\n",
    "print(array1)\n",
    "print(array2)"
   ]
  },
  {
   "cell_type": "code",
   "execution_count": 124,
   "metadata": {},
   "outputs": [
    {
     "name": "stdout",
     "output_type": "stream",
     "text": [
      "[[ True  True False]\n",
      " [ True  True False]\n",
      " [False False  True]]\n"
     ]
    }
   ],
   "source": [
    "#Perform element-wise comparison to find which elements are greater in the first array\n",
    "\n",
    "array1_vs_array2 = np.greater(array1, array2)\n",
    "print(array1_vs_array2)\n",
    "\n"
   ]
  },
  {
   "cell_type": "markdown",
   "metadata": {},
   "source": [
    "🌟 Exercise 8 : Time Series Data Manipulation\n"
   ]
  },
  {
   "cell_type": "code",
   "execution_count": 135,
   "metadata": {},
   "outputs": [
    {
     "name": "stdout",
     "output_type": "stream",
     "text": [
      "['2023-01-01' '2023-01-02' '2023-01-03' '2023-01-04' '2023-01-05'\n",
      " '2023-01-06' '2023-01-07' '2023-01-08' '2023-01-09' '2023-01-10'\n",
      " '2023-01-11' '2023-01-12' '2023-01-13' '2023-01-14' '2023-01-15'\n",
      " '2023-01-16' '2023-01-17' '2023-01-18' '2023-01-19' '2023-01-20'\n",
      " '2023-01-21' '2023-01-22' '2023-01-23' '2023-01-24' '2023-01-25'\n",
      " '2023-01-26' '2023-01-27' '2023-01-28' '2023-01-29' '2023-01-30'\n",
      " '2023-01-31' '2023-02-01' '2023-02-02' '2023-02-03' '2023-02-04'\n",
      " '2023-02-05' '2023-02-06' '2023-02-07' '2023-02-08' '2023-02-09'\n",
      " '2023-02-10' '2023-02-11' '2023-02-12' '2023-02-13' '2023-02-14'\n",
      " '2023-02-15' '2023-02-16' '2023-02-17' '2023-02-18' '2023-02-19'\n",
      " '2023-02-20' '2023-02-21' '2023-02-22' '2023-02-23' '2023-02-24'\n",
      " '2023-02-25' '2023-02-26' '2023-02-27' '2023-02-28' '2023-03-01'\n",
      " '2023-03-02' '2023-03-03' '2023-03-04' '2023-03-05' '2023-03-06'\n",
      " '2023-03-07' '2023-03-08' '2023-03-09' '2023-03-10' '2023-03-11'\n",
      " '2023-03-12' '2023-03-13' '2023-03-14' '2023-03-15' '2023-03-16'\n",
      " '2023-03-17' '2023-03-18' '2023-03-19' '2023-03-20' '2023-03-21'\n",
      " '2023-03-22' '2023-03-23' '2023-03-24' '2023-03-25' '2023-03-26'\n",
      " '2023-03-27' '2023-03-28' '2023-03-29' '2023-03-30' '2023-03-31'\n",
      " '2023-04-01' '2023-04-02' '2023-04-03' '2023-04-04' '2023-04-05'\n",
      " '2023-04-06' '2023-04-07' '2023-04-08' '2023-04-09' '2023-04-10'\n",
      " '2023-04-11' '2023-04-12' '2023-04-13' '2023-04-14' '2023-04-15'\n",
      " '2023-04-16' '2023-04-17' '2023-04-18' '2023-04-19' '2023-04-20'\n",
      " '2023-04-21' '2023-04-22' '2023-04-23' '2023-04-24' '2023-04-25'\n",
      " '2023-04-26' '2023-04-27' '2023-04-28' '2023-04-29' '2023-04-30'\n",
      " '2023-05-01' '2023-05-02' '2023-05-03' '2023-05-04' '2023-05-05'\n",
      " '2023-05-06' '2023-05-07' '2023-05-08' '2023-05-09' '2023-05-10'\n",
      " '2023-05-11' '2023-05-12' '2023-05-13' '2023-05-14' '2023-05-15'\n",
      " '2023-05-16' '2023-05-17' '2023-05-18' '2023-05-19' '2023-05-20'\n",
      " '2023-05-21' '2023-05-22' '2023-05-23' '2023-05-24' '2023-05-25'\n",
      " '2023-05-26' '2023-05-27' '2023-05-28' '2023-05-29' '2023-05-30'\n",
      " '2023-05-31' '2023-06-01' '2023-06-02' '2023-06-03' '2023-06-04'\n",
      " '2023-06-05' '2023-06-06' '2023-06-07' '2023-06-08' '2023-06-09'\n",
      " '2023-06-10' '2023-06-11' '2023-06-12' '2023-06-13' '2023-06-14'\n",
      " '2023-06-15' '2023-06-16' '2023-06-17' '2023-06-18' '2023-06-19'\n",
      " '2023-06-20' '2023-06-21' '2023-06-22' '2023-06-23' '2023-06-24'\n",
      " '2023-06-25' '2023-06-26' '2023-06-27' '2023-06-28' '2023-06-29'\n",
      " '2023-06-30' '2023-07-01' '2023-07-02' '2023-07-03' '2023-07-04'\n",
      " '2023-07-05' '2023-07-06' '2023-07-07' '2023-07-08' '2023-07-09'\n",
      " '2023-07-10' '2023-07-11' '2023-07-12' '2023-07-13' '2023-07-14'\n",
      " '2023-07-15' '2023-07-16' '2023-07-17' '2023-07-18' '2023-07-19'\n",
      " '2023-07-20' '2023-07-21' '2023-07-22' '2023-07-23' '2023-07-24'\n",
      " '2023-07-25' '2023-07-26' '2023-07-27' '2023-07-28' '2023-07-29'\n",
      " '2023-07-30' '2023-07-31' '2023-08-01' '2023-08-02' '2023-08-03'\n",
      " '2023-08-04' '2023-08-05' '2023-08-06' '2023-08-07' '2023-08-08'\n",
      " '2023-08-09' '2023-08-10' '2023-08-11' '2023-08-12' '2023-08-13'\n",
      " '2023-08-14' '2023-08-15' '2023-08-16' '2023-08-17' '2023-08-18'\n",
      " '2023-08-19' '2023-08-20' '2023-08-21' '2023-08-22' '2023-08-23'\n",
      " '2023-08-24' '2023-08-25' '2023-08-26' '2023-08-27' '2023-08-28'\n",
      " '2023-08-29' '2023-08-30' '2023-08-31' '2023-09-01' '2023-09-02'\n",
      " '2023-09-03' '2023-09-04' '2023-09-05' '2023-09-06' '2023-09-07'\n",
      " '2023-09-08' '2023-09-09' '2023-09-10' '2023-09-11' '2023-09-12'\n",
      " '2023-09-13' '2023-09-14' '2023-09-15' '2023-09-16' '2023-09-17'\n",
      " '2023-09-18' '2023-09-19' '2023-09-20' '2023-09-21' '2023-09-22'\n",
      " '2023-09-23' '2023-09-24' '2023-09-25' '2023-09-26' '2023-09-27'\n",
      " '2023-09-28' '2023-09-29' '2023-09-30' '2023-10-01' '2023-10-02'\n",
      " '2023-10-03' '2023-10-04' '2023-10-05' '2023-10-06' '2023-10-07'\n",
      " '2023-10-08' '2023-10-09' '2023-10-10' '2023-10-11' '2023-10-12'\n",
      " '2023-10-13' '2023-10-14' '2023-10-15' '2023-10-16' '2023-10-17'\n",
      " '2023-10-18' '2023-10-19' '2023-10-20' '2023-10-21' '2023-10-22'\n",
      " '2023-10-23' '2023-10-24' '2023-10-25' '2023-10-26' '2023-10-27'\n",
      " '2023-10-28' '2023-10-29' '2023-10-30' '2023-10-31' '2023-11-01'\n",
      " '2023-11-02' '2023-11-03' '2023-11-04' '2023-11-05' '2023-11-06'\n",
      " '2023-11-07' '2023-11-08' '2023-11-09' '2023-11-10' '2023-11-11'\n",
      " '2023-11-12' '2023-11-13' '2023-11-14' '2023-11-15' '2023-11-16'\n",
      " '2023-11-17' '2023-11-18' '2023-11-19' '2023-11-20' '2023-11-21'\n",
      " '2023-11-22' '2023-11-23' '2023-11-24' '2023-11-25' '2023-11-26'\n",
      " '2023-11-27' '2023-11-28' '2023-11-29' '2023-11-30' '2023-12-01'\n",
      " '2023-12-02' '2023-12-03' '2023-12-04' '2023-12-05' '2023-12-06'\n",
      " '2023-12-07' '2023-12-08' '2023-12-09' '2023-12-10' '2023-12-11'\n",
      " '2023-12-12' '2023-12-13' '2023-12-14' '2023-12-15' '2023-12-16'\n",
      " '2023-12-17' '2023-12-18' '2023-12-19' '2023-12-20' '2023-12-21'\n",
      " '2023-12-22' '2023-12-23' '2023-12-24' '2023-12-25' '2023-12-26'\n",
      " '2023-12-27' '2023-12-28' '2023-12-29' '2023-12-30' '2023-12-31'\n",
      " '2024-01-01']\n"
     ]
    }
   ],
   "source": [
    "time_series = np.datetime64('2023-01-01') + np.arange(0, 366)\n",
    "print(time_series)"
   ]
  },
  {
   "cell_type": "code",
   "execution_count": null,
   "metadata": {},
   "outputs": [
    {
     "name": "stdout",
     "output_type": "stream",
     "text": [
      "['2023-01-01' '2023-01-02' '2023-01-03' '2023-01-04' '2023-01-05'\n",
      " '2023-01-06' '2023-01-07' '2023-01-08' '2023-01-09' '2023-01-10'\n",
      " '2023-01-11' '2023-01-12' '2023-01-13' '2023-01-14' '2023-01-15'\n",
      " '2023-01-16' '2023-01-17' '2023-01-18' '2023-01-19' '2023-01-20'\n",
      " '2023-01-21' '2023-01-22' '2023-01-23' '2023-01-24' '2023-01-25'\n",
      " '2023-01-26' '2023-01-27' '2023-01-28' '2023-01-29' '2023-01-30'\n",
      " '2023-01-31' '2023-02-01' '2023-02-02' '2023-02-03' '2023-02-04'\n",
      " '2023-02-05' '2023-02-06' '2023-02-07' '2023-02-08' '2023-02-09'\n",
      " '2023-02-10' '2023-02-11' '2023-02-12' '2023-02-13' '2023-02-14'\n",
      " '2023-02-15' '2023-02-16' '2023-02-17' '2023-02-18' '2023-02-19'\n",
      " '2023-02-20' '2023-02-21' '2023-02-22' '2023-02-23' '2023-02-24'\n",
      " '2023-02-25' '2023-02-26' '2023-02-27' '2023-02-28' '2023-03-01'\n",
      " '2023-03-02' '2023-03-03' '2023-03-04' '2023-03-05' '2023-03-06'\n",
      " '2023-03-07' '2023-03-08' '2023-03-09' '2023-03-10' '2023-03-11'\n",
      " '2023-03-12' '2023-03-13' '2023-03-14' '2023-03-15' '2023-03-16'\n",
      " '2023-03-17' '2023-03-18' '2023-03-19' '2023-03-20' '2023-03-21'\n",
      " '2023-03-22' '2023-03-23' '2023-03-24' '2023-03-25' '2023-03-26'\n",
      " '2023-03-27' '2023-03-28' '2023-03-29' '2023-03-30' '2023-03-31']\n",
      "['2023-04-02' '2023-04-03' '2023-04-04' '2023-04-05' '2023-04-06'\n",
      " '2023-04-07' '2023-04-08' '2023-04-09' '2023-04-10' '2023-04-11'\n",
      " '2023-04-12' '2023-04-13' '2023-04-14' '2023-04-15' '2023-04-16'\n",
      " '2023-04-17' '2023-04-18' '2023-04-19' '2023-04-20' '2023-04-21'\n",
      " '2023-04-22' '2023-04-23' '2023-04-24' '2023-04-25' '2023-04-26'\n",
      " '2023-04-27' '2023-04-28' '2023-04-29' '2023-04-30' '2023-05-01'\n",
      " '2023-05-02' '2023-05-03' '2023-05-04' '2023-05-05' '2023-05-06'\n",
      " '2023-05-07' '2023-05-08' '2023-05-09' '2023-05-10' '2023-05-11'\n",
      " '2023-05-12' '2023-05-13' '2023-05-14' '2023-05-15' '2023-05-16'\n",
      " '2023-05-17' '2023-05-18' '2023-05-19' '2023-05-20' '2023-05-21'\n",
      " '2023-05-22' '2023-05-23' '2023-05-24' '2023-05-25' '2023-05-26'\n",
      " '2023-05-27' '2023-05-28' '2023-05-29' '2023-05-30' '2023-05-31'\n",
      " '2023-06-01' '2023-06-02' '2023-06-03' '2023-06-04' '2023-06-05'\n",
      " '2023-06-06' '2023-06-07' '2023-06-08' '2023-06-09' '2023-06-10'\n",
      " '2023-06-11' '2023-06-12' '2023-06-13' '2023-06-14' '2023-06-15'\n",
      " '2023-06-16' '2023-06-17' '2023-06-18' '2023-06-19' '2023-06-20'\n",
      " '2023-06-21' '2023-06-22' '2023-06-23' '2023-06-24' '2023-06-25'\n",
      " '2023-06-26' '2023-06-27' '2023-06-28' '2023-06-29' '2023-06-30']\n",
      "['2023-07-02' '2023-07-03' '2023-07-04' '2023-07-05' '2023-07-06'\n",
      " '2023-07-07' '2023-07-08' '2023-07-09' '2023-07-10' '2023-07-11'\n",
      " '2023-07-12' '2023-07-13' '2023-07-14' '2023-07-15' '2023-07-16'\n",
      " '2023-07-17' '2023-07-18' '2023-07-19' '2023-07-20' '2023-07-21'\n",
      " '2023-07-22' '2023-07-23' '2023-07-24' '2023-07-25' '2023-07-26'\n",
      " '2023-07-27' '2023-07-28' '2023-07-29' '2023-07-30' '2023-07-31'\n",
      " '2023-08-01' '2023-08-02' '2023-08-03' '2023-08-04' '2023-08-05'\n",
      " '2023-08-06' '2023-08-07' '2023-08-08' '2023-08-09' '2023-08-10'\n",
      " '2023-08-11' '2023-08-12' '2023-08-13' '2023-08-14' '2023-08-15'\n",
      " '2023-08-16' '2023-08-17' '2023-08-18' '2023-08-19' '2023-08-20'\n",
      " '2023-08-21' '2023-08-22' '2023-08-23' '2023-08-24' '2023-08-25'\n",
      " '2023-08-26' '2023-08-27' '2023-08-28' '2023-08-29' '2023-08-30'\n",
      " '2023-08-31' '2023-09-01' '2023-09-02' '2023-09-03' '2023-09-04'\n",
      " '2023-09-05' '2023-09-06' '2023-09-07' '2023-09-08' '2023-09-09'\n",
      " '2023-09-10' '2023-09-11' '2023-09-12' '2023-09-13' '2023-09-14'\n",
      " '2023-09-15' '2023-09-16' '2023-09-17' '2023-09-18' '2023-09-19'\n",
      " '2023-09-20' '2023-09-21' '2023-09-22' '2023-09-23' '2023-09-24'\n",
      " '2023-09-25' '2023-09-26' '2023-09-27' '2023-09-28' '2023-09-29'\n",
      " '2023-09-30']\n",
      "['2023-10-02' '2023-10-03' '2023-10-04' '2023-10-05' '2023-10-06'\n",
      " '2023-10-07' '2023-10-08' '2023-10-09' '2023-10-10' '2023-10-11'\n",
      " '2023-10-12' '2023-10-13' '2023-10-14' '2023-10-15' '2023-10-16'\n",
      " '2023-10-17' '2023-10-18' '2023-10-19' '2023-10-20' '2023-10-21'\n",
      " '2023-10-22' '2023-10-23' '2023-10-24' '2023-10-25' '2023-10-26'\n",
      " '2023-10-27' '2023-10-28' '2023-10-29' '2023-10-30' '2023-10-31'\n",
      " '2023-11-01' '2023-11-02' '2023-11-03' '2023-11-04' '2023-11-05'\n",
      " '2023-11-06' '2023-11-07' '2023-11-08' '2023-11-09' '2023-11-10'\n",
      " '2023-11-11' '2023-11-12' '2023-11-13' '2023-11-14' '2023-11-15'\n",
      " '2023-11-16' '2023-11-17' '2023-11-18' '2023-11-19' '2023-11-20'\n",
      " '2023-11-21' '2023-11-22' '2023-11-23' '2023-11-24' '2023-11-25'\n",
      " '2023-11-26' '2023-11-27' '2023-11-28' '2023-11-29' '2023-11-30'\n",
      " '2023-12-01' '2023-12-02' '2023-12-03' '2023-12-04' '2023-12-05'\n",
      " '2023-12-06' '2023-12-07' '2023-12-08' '2023-12-09' '2023-12-10'\n",
      " '2023-12-11' '2023-12-12' '2023-12-13' '2023-12-14' '2023-12-15'\n",
      " '2023-12-16' '2023-12-17' '2023-12-18' '2023-12-19' '2023-12-20'\n",
      " '2023-12-21' '2023-12-22' '2023-12-23' '2023-12-24' '2023-12-25'\n",
      " '2023-12-26' '2023-12-27' '2023-12-28' '2023-12-29' '2023-12-30'\n",
      " '2023-12-31' '2024-01-01']\n"
     ]
    }
   ],
   "source": [
    "#Demostrate slicing for the following intervals: January to March; April to June; July to September; October to December\n",
    "#convert time series to datetime as string using numpy\n",
    "\n",
    "conversion_dates2 = np.datetime_as_string(time_series, unit='D')\n",
    "\n",
    "january_to_march = conversion_dates2[0:90]\n",
    "print(january_to_march)\n",
    "\n",
    "april_to_june = conversion_dates2[91:181]\n",
    "print(april_to_june)\n",
    "\n",
    "july_to_september = conversion_dates2[182:273]\n",
    "print(july_to_september)\n",
    "\n",
    "october_to_december = conversion_dates2[274:366]\n",
    "print(october_to_december)\n",
    "\n",
    "\n",
    "\n"
   ]
  },
  {
   "cell_type": "markdown",
   "metadata": {},
   "source": [
    "🌟 Exercise 9 : Data Conversion\n"
   ]
  },
  {
   "cell_type": "code",
   "execution_count": null,
   "metadata": {},
   "outputs": [
    {
     "name": "stdout",
     "output_type": "stream",
     "text": [
      "[[  6  -1 -10]\n",
      " [  8   5   6]\n",
      " [ -8   6 -10]]\n",
      "   A  B   C\n",
      "0  6 -1 -10\n",
      "1  8  5   6\n",
      "2 -8  6 -10\n"
     ]
    }
   ],
   "source": [
    "#Create numpy array and convert it to pandas dataframe\n",
    "\n",
    "random_data = np.random.randint(-10, 10, (3, 3))\n",
    "print(random_data)\n",
    "\n",
    "#Create pandas dataframe\n",
    "\n",
    "df = pd.DataFrame(random_data, columns=['A', 'B', 'C'])\n",
    "\n",
    "print(df)"
   ]
  },
  {
   "cell_type": "code",
   "execution_count": 141,
   "metadata": {},
   "outputs": [
    {
     "name": "stdout",
     "output_type": "stream",
     "text": [
      "[[  6  -1 -10]\n",
      " [  8   5   6]\n",
      " [ -8   6 -10]]\n"
     ]
    }
   ],
   "source": [
    "#take that pandas dataframe and convert it back to a numpy array\n",
    "\n",
    "array = df.to_numpy()\n",
    "print(array)"
   ]
  },
  {
   "cell_type": "markdown",
   "metadata": {},
   "source": [
    "🌟 Exercise 10 : Basic Visualization\n"
   ]
  },
  {
   "cell_type": "code",
   "execution_count": 144,
   "metadata": {},
   "outputs": [
    {
     "data": {
      "image/png": "[encoded data removed]",
      "text/plain": [
       "<Figure size 640x480 with 1 Axes>"
      ]
     },
     "metadata": {},
     "output_type": "display_data"
    }
   ],
   "source": [
    "#Use Matplotlib to visualize a simple dataset created with NumPy (e.g., a line graph of random numbers).\n",
    "\n",
    "import matplotlib.pyplot as plt\n",
    "import numpy as np\n",
    "\n",
    "x = np.random.randint(0, 10, 10)\n",
    "y = np.random.randint(0, 10, 10)\n",
    "\n",
    "plt.plot(x, y)\n",
    "plt.title(\"Randomness\")\n",
    "plt.xlabel(\"X-axis\")\n",
    "plt.ylabel(\"Y-axis\")\n",
    "plt.show()"
   ]
  }
 ],
 "metadata": {
  "kernelspec": {
   "display_name": "Python 3",
   "language": "python",
   "name": "python3"
  },
  "language_info": {
   "codemirror_mode": {
    "name": "ipython",
    "version": 3
   },
   "file_extension": ".py",
   "mimetype": "text/x-python",
   "name": "python",
   "nbconvert_exporter": "python",
   "pygments_lexer": "ipython3",
   "version": "3.11.0"
  }
 },
 "nbformat": 4,
 "nbformat_minor": 2
}
